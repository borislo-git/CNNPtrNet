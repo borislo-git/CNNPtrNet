{
 "cells": [
  {
   "cell_type": "code",
   "execution_count": 1,
   "metadata": {},
   "outputs": [],
   "source": [
    "import tensorflow as tf\n",
    "import numpy as np\n",
    "import src"
   ]
  },
  {
   "cell_type": "code",
   "execution_count": 2,
   "metadata": {},
   "outputs": [],
   "source": [
    "problem = src.SortingProblem()"
   ]
  },
  {
   "cell_type": "code",
   "execution_count": 3,
   "metadata": {},
   "outputs": [
    {
     "name": "stdout",
     "output_type": "stream",
     "text": [
      "WARNING:tensorflow:From /Users/borislo/Projects/ptrnet/src/PointerNetwork.py:344: softmax_cross_entropy_with_logits (from tensorflow.python.ops.nn_ops) is deprecated and will be removed in a future version.\n",
      "Instructions for updating:\n",
      "\n",
      "Future major versions of TensorFlow will allow gradients to flow\n",
      "into the labels input on backprop by default.\n",
      "\n",
      "See tf.nn.softmax_cross_entropy_with_logits_v2.\n",
      "\n"
     ]
    }
   ],
   "source": [
    "tf.reset_default_graph()\n",
    "network = src.PointerNetwork('cfg')\n",
    "network.makeGraph()\n",
    "seqLen = network.maxTimeSteps\n",
    "batchSize = network.batchSize"
   ]
  },
  {
   "cell_type": "code",
   "execution_count": null,
   "metadata": {},
   "outputs": [
    {
     "name": "stdout",
     "output_type": "stream",
     "text": [
      "Batch: 0\n",
      "[ 0.57155973  0.58062273  0.41836503  0.10392872  0.89034588]\n",
      "[ 0.10392872  0.41836503  0.57155973  0.58062273  0.89034588]\n",
      "0.41\n",
      "Batch: 99\n",
      "[ 0.35785989  0.02675658  0.35261258  0.52242799  0.06660574]\n",
      "[ 0.02675658  0.06660574  0.35785989  0.35261258  0.52242799]\n",
      "0.93\n"
     ]
    }
   ],
   "source": [
    "trainingParams = {}\n",
    "trainingParams['batchSize'] = batchSize\n",
    "trainingParams['length'] = seqLen\n",
    "\n",
    "losses = []\n",
    "\n",
    "# train on 100 batches of 100 samples each\n",
    "saver = tf.train.Saver()\n",
    "with tf.Session() as sess:\n",
    "    # initialize variables\n",
    "    sess.run(tf.global_variables_initializer())\n",
    "    \n",
    "    # write out log for graph visualization\n",
    "    writer = tf.summary.FileWriter('checkpoints/', sess.graph)\n",
    "\n",
    "    for batch in range(100):\n",
    "        # make current batch of training data\n",
    "        inputs = problem.makeBatch(trainingParams)\n",
    "        trainingInputs, targets = problem.makeTargets(inputs)\n",
    "        \n",
    "        # apply one training step\n",
    "        _, loss = sess.run([network.trainOp, network.loss], \n",
    "                           feed_dict={network.train: True,\n",
    "                                      network.rawInputs: inputs,\n",
    "                                      network.targets: targets,\n",
    "                                      network.targetInputs: trainingInputs[:,:-1,:]})\n",
    "        \n",
    "        # keep track of the loss values\n",
    "        losses.append(loss)\n",
    "        \n",
    "        if batch % 100 == 0 or batch == 99:\n",
    "            \n",
    "            # generate a test batch and output its accuracy and also a sample\n",
    "            print('Batch: ' + str(batch))\n",
    "            newInputs = problem.makeBatch(trainingParams)\n",
    "            output = sess.run(network.decoderOutputs, feed_dict={network.train: False,\n",
    "                                                                 network.rawInputs: newInputs})\n",
    "            print(newInputs[0, :, :].T[0])\n",
    "            print(newInputs[0, :, :].T[0][np.array(output).T[0]])\n",
    "            print(problem.accuracy(solution=np.array(output).T, batchArray=newInputs))\n",
    "            \n",
    "            # save checkpoint\n",
    "            if batch > 0:\n",
    "                saver.save(sess, 'checkpoints/SortingPointerNetwork', global_step=network.globalStep)"
   ]
  },
  {
   "cell_type": "markdown",
   "metadata": {},
   "source": [
    "The above cells train the sorting problem according to max time in cfg (default is 5).\n",
    "\n",
    "Now, look at the accuracy of using these network weights on sorting 15 numbers and see how the network performs."
   ]
  },
  {
   "cell_type": "code",
   "execution_count": null,
   "metadata": {},
   "outputs": [],
   "source": [
    "tf.reset_default_graph()\n",
    "network = src.PointerNetwork('cfg')\n",
    "network.maxTimeSteps = 15\n",
    "network.makeGraph()"
   ]
  },
  {
   "cell_type": "code",
   "execution_count": null,
   "metadata": {},
   "outputs": [],
   "source": [
    "trainingParams = {}\n",
    "trainingParams['batchSize'] = network.batchSize\n",
    "trainingParams['length'] = network.maxTimeSteps\n",
    "saver = tf.train.Saver()\n",
    "with tf.Session() as sess:\n",
    "    # initialize variables\n",
    "    saver.restore(sess, tf.train.latest_checkpoint('checkpoints/'))\n",
    "\n",
    "    # generate a test batch and output its accuracy and also a sample\n",
    "    newInputs = problem.makeBatch(trainingParams)\n",
    "    output = sess.run(network.decoderOutputs, feed_dict={network.train: False,\n",
    "                                                         network.rawInputs: newInputs})\n",
    "    print(newInputs[0, :, :].T[0])\n",
    "    print(newInputs[0, :, :].T[0][np.array(output).T[0]])\n",
    "    print(problem.accuracy(solution=np.array(output).T, batchArray=newInputs))"
   ]
  },
  {
   "cell_type": "code",
   "execution_count": null,
   "metadata": {},
   "outputs": [],
   "source": [
    "import matplotlib.pyplot as plt\n",
    "\n",
    "plt.semilogy(losses)\n",
    "plt.show()"
   ]
  }
 ],
 "metadata": {
  "kernelspec": {
   "display_name": "Python 3",
   "language": "python",
   "name": "python3"
  },
  "language_info": {
   "codemirror_mode": {
    "name": "ipython",
    "version": 3
   },
   "file_extension": ".py",
   "mimetype": "text/x-python",
   "name": "python",
   "nbconvert_exporter": "python",
   "pygments_lexer": "ipython3",
   "version": "3.6.1"
  }
 },
 "nbformat": 4,
 "nbformat_minor": 2
}
