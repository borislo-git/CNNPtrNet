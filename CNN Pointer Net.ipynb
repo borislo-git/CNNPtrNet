{
 "cells": [
  {
   "cell_type": "code",
   "execution_count": 1,
   "metadata": {},
   "outputs": [],
   "source": [
    "import tensorflow as tf\n",
    "import numpy as np\n",
    "import src"
   ]
  },
  {
   "cell_type": "code",
   "execution_count": 2,
   "metadata": {},
   "outputs": [],
   "source": [
    "problem = src.SortingProblem()"
   ]
  },
  {
   "cell_type": "code",
   "execution_count": null,
   "metadata": {},
   "outputs": [],
   "source": [
    "tf.reset_default_graph()\n",
    "network = src.PointerNetwork('cfg')\n",
    "\n",
    "seqLen = network.maxTimeSteps\n",
    "batchSize = network.batchSize"
   ]
  },
  {
   "cell_type": "code",
   "execution_count": null,
   "metadata": {},
   "outputs": [
    {
     "name": "stdout",
     "output_type": "stream",
     "text": [
      "Batch: 0\n",
      "[ 0.0104827   0.67190734  0.1791262   0.91124201  0.4849316   0.99031874\n",
      "  0.36407581  0.87275112  0.71377798  0.7469021   0.12385637  0.16245243\n",
      "  0.54418423  0.35802675  0.04387939]\n",
      "[ 0.04387939  0.0104827   0.1791262   0.99031874  0.91124201  0.87275112\n",
      "  0.67190734  0.7469021   0.71377798  0.54418423  0.4849316   0.35802675\n",
      "  0.36407581  0.16245243  0.12385637]\n",
      "0.0\n"
     ]
    }
   ],
   "source": [
    "trainingParams = {}\n",
    "trainingParams['batchSize'] = batchSize\n",
    "trainingParams['length'] = seqLen\n",
    "\n",
    "losses = []\n",
    "\n",
    "saver = tf.train.Saver()\n",
    "with tf.Session() as sess:\n",
    "    # initialize variables\n",
    "    sess.run(tf.global_variables_initializer())\n",
    "    \n",
    "    # write out log for graph visualization\n",
    "    writer = tf.summary.FileWriter('checkpoints/', sess.graph)\n",
    "\n",
    "    for batch in range(100):\n",
    "        # make current batch of training data\n",
    "        inputs = problem.makeBatch(trainingParams)\n",
    "        trainingInputs, targets = problem.makeTargets(inputs)\n",
    "        \n",
    "        # apply one training step\n",
    "        _, loss = sess.run([network.trainOp, network.loss], \n",
    "                           feed_dict={network.train: True,\n",
    "                                      network.rawInputs: inputs,\n",
    "                                      network.targets: targets,\n",
    "                                      network.targetInputs: trainingInputs[:,:-1,:]})\n",
    "        \n",
    "        # keep track of the loss values\n",
    "        losses.append(loss)\n",
    "        \n",
    "        if batch % 100 == 0 or batch == 99:\n",
    "            \n",
    "            # generate a test batch and output its accuracy and also a sample\n",
    "            print('Batch: ' + str(batch))\n",
    "            newInputs = problem.makeBatch(trainingParams)\n",
    "            output = sess.run(network.decoderOutputs, feed_dict={network.train: False,\n",
    "                                                                 network.rawInputs: newInputs})\n",
    "            print(newInputs[0, :, :].T[0])\n",
    "            print(newInputs[0, :, :].T[0][np.array(output).T[0]])\n",
    "            print(problem.accuracy(solution=np.array(output).T, batchArray=newInputs))\n",
    "            \n",
    "            # save checkpoint\n",
    "            if batch > 0:\n",
    "                saver.save(sess, 'checkpoints/SortingPointerNetwork', global_step=network.globalStep)"
   ]
  },
  {
   "cell_type": "code",
   "execution_count": null,
   "metadata": {},
   "outputs": [],
   "source": [
    "import matplotlib.pyplot as plt\n",
    "\n",
    "plt.semilogy(losses)\n",
    "plt.show()"
   ]
  }
 ],
 "metadata": {
  "kernelspec": {
   "display_name": "Python 3",
   "language": "python",
   "name": "python3"
  },
  "language_info": {
   "codemirror_mode": {
    "name": "ipython",
    "version": 3
   },
   "file_extension": ".py",
   "mimetype": "text/x-python",
   "name": "python",
   "nbconvert_exporter": "python",
   "pygments_lexer": "ipython3",
   "version": "3.6.1"
  }
 },
 "nbformat": 4,
 "nbformat_minor": 2
}
