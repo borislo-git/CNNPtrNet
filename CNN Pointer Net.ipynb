{
 "cells": [
  {
   "cell_type": "code",
   "execution_count": 4,
   "metadata": {},
   "outputs": [],
   "source": [
    "import tensorflow as tf\n",
    "import numpy as np\n",
    "import src"
   ]
  },
  {
   "cell_type": "code",
   "execution_count": 6,
   "metadata": {},
   "outputs": [],
   "source": [
    "problem = src.SortingProblem()"
   ]
  },
  {
   "cell_type": "code",
   "execution_count": 7,
   "metadata": {},
   "outputs": [
    {
     "name": "stdout",
     "output_type": "stream",
     "text": [
      "WARNING:tensorflow:From /Users/borislo/Projects/ptrnet/src/PointerNetwork.py:182: softmax_cross_entropy_with_logits (from tensorflow.python.ops.nn_ops) is deprecated and will be removed in a future version.\n",
      "Instructions for updating:\n",
      "\n",
      "Future major versions of TensorFlow will allow gradients to flow\n",
      "into the labels input on backprop by default.\n",
      "\n",
      "See tf.nn.softmax_cross_entropy_with_logits_v2.\n",
      "\n"
     ]
    }
   ],
   "source": [
    "network = src.PointerNetwork('cfg')\n",
    "\n",
    "seqLen = network.maxTimeSteps\n",
    "batchSize = network.batchSize"
   ]
  },
  {
   "cell_type": "code",
   "execution_count": 4,
   "metadata": {},
   "outputs": [
    {
     "name": "stdout",
     "output_type": "stream",
     "text": [
      "Batch: 0\n",
      "[532 152 592 586 536]\n",
      "[586 592 536 532 152]\n",
      "Batch: 100\n",
      "[538 519 490 226 220]\n",
      "[490 220 519 226 538]\n",
      "Batch: 200\n",
      "[164 577 564 348 416]\n",
      "[164 416 577 564 348]\n",
      "Batch: 300\n",
      "[261 276 357 432 463]\n",
      "[357 276 463 432 261]\n",
      "Batch: 400\n",
      "[538 256 283 334 404]\n",
      "[538 256 404 334 283]\n",
      "Batch: 500\n",
      "[411 253 406 426 502]\n",
      "[253 406 411 502 426]\n",
      "Batch: 600\n",
      "[561 490 309 582 544]\n",
      "[561 544 582 309 490]\n",
      "Batch: 700\n",
      "[412 577 487 290 188]\n",
      "[412 188 290 577 487]\n",
      "Batch: 800\n",
      "[372 528 428 516 258]\n",
      "[428 528 516 372 258]\n",
      "Batch: 900\n",
      "[155 544 352 295 269]\n",
      "[155 269 295 352 544]\n",
      "Batch: 1000\n",
      "[241 295 256 320 226]\n",
      "[295 226 241 256 320]\n",
      "Batch: 1100\n",
      "[580 570 194 585 228]\n",
      "[194 570 580 585 228]\n",
      "Batch: 1200\n",
      "[528 409 378 509 239]\n",
      "[528 239 509 378 409]\n",
      "Batch: 1300\n",
      "[373 177 494 165 583]\n",
      "[165 494 583 373 177]\n",
      "Batch: 1400\n",
      "[326 546 544 213 195]\n",
      "[213 195 326 546 544]\n",
      "Batch: 1500\n",
      "[493 525 399 351 439]\n",
      "[439 493 525 399 351]\n",
      "Batch: 1600\n",
      "[300 264 384 372 553]\n",
      "[264 553 384 300 372]\n",
      "Batch: 1700\n",
      "[525 384 206 239 309]\n",
      "[206 525 309 384 239]\n",
      "Batch: 1800\n",
      "[295 512 364 529 400]\n",
      "[295 364 400 512 529]\n",
      "Batch: 1900\n",
      "[559 422 301 396 528]\n",
      "[301 396 422 528 559]\n"
     ]
    }
   ],
   "source": [
    "with tf.Session() as sess:\n",
    "    sess.run(tf.global_variables_initializer())\n",
    "    for batch in range(2000):\n",
    "        inputs = problem.makeBatch(batchSize, 1, 100, seqLen)\n",
    "        trainingInputs, targets = problem.makeTargets(inputs)\n",
    "        \n",
    "        _, loss = sess.run([network.trainOp, network.loss], \n",
    "                           feed_dict={network.train: True,\n",
    "                                      network.rawInputs: inputs,\n",
    "                                    network.targets: targets,\n",
    "                                    network.targetInputs: trainingInputs[:,:-1,:]})\n",
    "        \n",
    "        if batch % 100 == 0:\n",
    "            print('Batch: ' + str(batch))\n",
    "            newInputs = problem.makeBatch(batchSize, 150, 600, seqLen)\n",
    "            output = sess.run(network.decoderOutputs, feed_dict={network.train: False,\n",
    "                                                                 network.rawInputs: newInputs})\n",
    "            print(newInputs[0, :, :].T[0])\n",
    "            print(newInputs[0, :, :].T[0][np.array(output).T[0]])\n",
    "            "
   ]
  }
 ],
 "metadata": {
  "kernelspec": {
   "display_name": "Python 3",
   "language": "python",
   "name": "python3"
  },
  "language_info": {
   "codemirror_mode": {
    "name": "ipython",
    "version": 3
   },
   "file_extension": ".py",
   "mimetype": "text/x-python",
   "name": "python",
   "nbconvert_exporter": "python",
   "pygments_lexer": "ipython3",
   "version": "3.6.1"
  }
 },
 "nbformat": 4,
 "nbformat_minor": 2
}
