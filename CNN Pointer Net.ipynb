{
 "cells": [
  {
   "cell_type": "code",
   "execution_count": 1,
   "metadata": {},
   "outputs": [],
   "source": [
    "import tensorflow as tf\n",
    "import numpy as np\n",
    "import src"
   ]
  },
  {
   "cell_type": "code",
   "execution_count": 9,
   "metadata": {},
   "outputs": [],
   "source": [
    "problem = src.TSPProblem()"
   ]
  },
  {
   "cell_type": "code",
   "execution_count": 3,
   "metadata": {},
   "outputs": [
    {
     "name": "stdout",
     "output_type": "stream",
     "text": [
      "WARNING:tensorflow:From /Users/borislo/Projects/ptrnet/src/PointerNetwork.py:368: softmax_cross_entropy_with_logits (from tensorflow.python.ops.nn_ops) is deprecated and will be removed in a future version.\n",
      "Instructions for updating:\n",
      "\n",
      "Future major versions of TensorFlow will allow gradients to flow\n",
      "into the labels input on backprop by default.\n",
      "\n",
      "See tf.nn.softmax_cross_entropy_with_logits_v2.\n",
      "\n"
     ]
    }
   ],
   "source": [
    "tf.reset_default_graph()\n",
    "network = src.PointerNetwork('cfg')\n",
    "network.makeGraph()\n",
    "seqLen = network.maxTimeSteps\n",
    "batchSize = network.batchSize"
   ]
  },
  {
   "cell_type": "code",
   "execution_count": 4,
   "metadata": {},
   "outputs": [
    {
     "name": "stdout",
     "output_type": "stream",
     "text": [
      "Batch: 0\n",
      "[[ 0.0694182   0.28653435  0.67151609  0.05835312  0.96098649]\n",
      " [ 0.63428083  0.92402423  0.44886724  0.59471751  0.41898492]]\n",
      "[[ 0.0694182   0.28653435  0.05835312  0.67151609  0.96098649]\n",
      " [ 0.63428083  0.92402423  0.59471751  0.44886724  0.41898492]]\n",
      "1.48705912446\n",
      "Batch: 100\n",
      "[[ 0.89019183  0.07163456  0.25337688  0.10093227  0.52468551]\n",
      " [ 0.36113082  0.80795358  0.50458678  0.56286661  0.0140203 ]]\n",
      "[[ 0.89019183  0.52468551  0.10093227  0.25337688  0.07163456]\n",
      " [ 0.36113082  0.0140203   0.56286661  0.50458678  0.80795358]]\n",
      "1.24840728082\n",
      "Batch: 200\n",
      "[[ 0.82004191  0.65646673  0.42374485  0.04826134  0.38668088]\n",
      " [ 0.17466808  0.72196487  0.87131235  0.79626031  0.3220555 ]]\n",
      "[[ 0.82004191  0.38668088  0.65646673  0.42374485  0.04826134]\n",
      " [ 0.17466808  0.3220555   0.72196487  0.87131235  0.79626031]]\n",
      "1.12938523641\n",
      "Batch: 300\n",
      "[[ 0.62427434  0.33537669  0.41932507  0.38585717  0.76485303]\n",
      " [ 0.76425469  0.2964961   0.48740162  0.60115937  0.89603912]]\n",
      "[[ 0.62427434  0.33537669  0.41932507  0.38585717  0.76485303]\n",
      " [ 0.76425469  0.2964961   0.48740162  0.60115937  0.89603912]]\n",
      "1.11848892697\n",
      "Batch: 400\n",
      "[[ 0.41891458  0.09465005  0.093418    0.14088947  0.21818296]\n",
      " [ 0.58426429  0.41592845  0.34259754  0.6390811   0.29691905]]\n",
      "[[ 0.41891458  0.21818296  0.093418    0.09465005  0.14088947]\n",
      " [ 0.58426429  0.29691905  0.34259754  0.41592845  0.6390811 ]]\n",
      "1.1000618279\n",
      "Batch: 500\n",
      "[[ 0.29016335  0.28410655  0.02636287  0.02409736  0.13354179]\n",
      " [ 0.73250057  0.60854361  0.37328524  0.68669307  0.32680544]]\n",
      "[[ 0.29016335  0.13354179  0.02636287  0.02409736  0.28410655]\n",
      " [ 0.73250057  0.32680544  0.37328524  0.68669307  0.60854361]]\n",
      "1.09651833581\n",
      "Batch: 600\n",
      "[[ 0.69180151  0.26314739  0.55403164  0.70084987  0.3900402 ]\n",
      " [ 0.16241486  0.68804209  0.37658768  0.42308472  0.8778428 ]]\n",
      "[[ 0.69180151  0.70084987  0.55403164  0.26314739  0.3900402 ]\n",
      " [ 0.16241486  0.42308472  0.37658768  0.68804209  0.8778428 ]]\n",
      "1.12658047508\n",
      "Batch: 700\n",
      "[[ 0.13637916  0.98865793  0.76008636  0.88275446  0.86013493]\n",
      " [ 0.4613061   0.70265388  0.64055279  0.21607168  0.12875087]]\n",
      "[[ 0.13637916  0.88275446  0.86013493  0.76008636  0.98865793]\n",
      " [ 0.4613061   0.21607168  0.12875087  0.64055279  0.70265388]]\n",
      "1.08912431673\n",
      "Batch: 800\n",
      "[[ 0.24646621  0.09649483  0.83670381  0.59597122  0.62543359]\n",
      " [ 0.73077788  0.2541327   0.49608871  0.96294453  0.4233002 ]]\n",
      "[[ 0.24646621  0.09649483  0.62543359  0.83670381  0.59597122]\n",
      " [ 0.73077788  0.2541327   0.4233002   0.49608871  0.96294453]]\n",
      "1.09037556092\n",
      "Batch: 900\n",
      "[[ 0.34981538  0.48725533  0.23663309  0.72397141  0.32901383]\n",
      " [ 0.74275441  0.60756538  0.31113594  0.77154949  0.91495545]]\n",
      "[[ 0.34981538  0.23663309  0.48725533  0.32901383  0.72397141]\n",
      " [ 0.74275441  0.31113594  0.60756538  0.91495545  0.77154949]]\n",
      "1.12419779674\n",
      "Batch: 999\n",
      "[[ 0.28337678  0.9200722   0.26181938  0.54464776  0.02621743]\n",
      " [ 0.75629729  0.50488953  0.86231983  0.94798727  0.53895622]]\n",
      "[[ 0.28337678  0.26181938  0.02621743  0.54464776  0.9200722 ]\n",
      " [ 0.75629729  0.86231983  0.53895622  0.94798727  0.50488953]]\n",
      "1.11595496445\n"
     ]
    }
   ],
   "source": [
    "trainingParams = {}\n",
    "trainingParams['batchSize'] = batchSize\n",
    "trainingParams['length'] = seqLen\n",
    "trainingParams['numCities'] = seqLen\n",
    "\n",
    "losses = []\n",
    "\n",
    "# train on numBatches batches of 100 samples each\n",
    "saver = tf.train.Saver()\n",
    "numBatches = 1000\n",
    "with tf.Session() as sess:\n",
    "    # initialize variables\n",
    "    sess.run(tf.global_variables_initializer())\n",
    "    \n",
    "    # write out log for graph visualization\n",
    "    writer = tf.summary.FileWriter('checkpoints/', sess.graph)\n",
    "\n",
    "    for batch in range(numBatches):\n",
    "        # make current batch of training data\n",
    "        inputs = problem.makeBatch(trainingParams)\n",
    "        trainingInputs, targets = problem.makeTargets(inputs)\n",
    "        \n",
    "        # apply one training step\n",
    "        _, loss = sess.run([network.trainOp, network.loss], \n",
    "                           feed_dict={network.train: True,\n",
    "                                      network.rawInputs: inputs,\n",
    "                                      network.targets: targets,\n",
    "                                      network.targetInputs: trainingInputs[:,:-1,:]})\n",
    "        \n",
    "        # keep track of the loss values\n",
    "        losses.append(loss)\n",
    "        \n",
    "        if batch % 100 == 0 or batch == numBatches-1:\n",
    "            \n",
    "            # generate a test batch and output its accuracy and also a sample\n",
    "            print('Batch: ' + str(batch))\n",
    "            newInputs = problem.makeBatch(trainingParams)\n",
    "            output = sess.run(network.decoderOutputs, feed_dict={network.train: False,\n",
    "                                                                 network.rawInputs: newInputs})\n",
    "            print(newInputs[0, :, :].T)\n",
    "            print(newInputs[0, :, :][np.array(output).T[0]].T)\n",
    "            print(problem.accuracy(solution=np.array(output).T, batchArray=newInputs))\n",
    "            \n",
    "            # save checkpoint\n",
    "            if batch > 0:\n",
    "                saver.save(sess, 'checkpoints/SortingPointerNetwork', global_step=network.globalStep)"
   ]
  },
  {
   "cell_type": "markdown",
   "metadata": {},
   "source": [
    "The above cells train the sorting problem according to max time in cfg (default is 5).\n",
    "\n",
    "Now, look at the accuracy of using these network weights on sorting 15 numbers and see how the network performs."
   ]
  },
  {
   "cell_type": "code",
   "execution_count": 2,
   "metadata": {},
   "outputs": [
    {
     "name": "stdout",
     "output_type": "stream",
     "text": [
      "WARNING:tensorflow:From /Users/borislo/Projects/ptrnet/src/PointerNetwork.py:368: softmax_cross_entropy_with_logits (from tensorflow.python.ops.nn_ops) is deprecated and will be removed in a future version.\n",
      "Instructions for updating:\n",
      "\n",
      "Future major versions of TensorFlow will allow gradients to flow\n",
      "into the labels input on backprop by default.\n",
      "\n",
      "See tf.nn.softmax_cross_entropy_with_logits_v2.\n",
      "\n"
     ]
    }
   ],
   "source": [
    "tf.reset_default_graph()\n",
    "problem = src.TSPProblem()\n",
    "network = src.PointerNetwork('cfg')\n",
    "network.maxTimeSteps = 15\n",
    "network.batchSize = 100\n",
    "network.makeGraph()"
   ]
  },
  {
   "cell_type": "code",
   "execution_count": 3,
   "metadata": {},
   "outputs": [
    {
     "name": "stdout",
     "output_type": "stream",
     "text": [
      "INFO:tensorflow:Restoring parameters from checkpoints/SortingPointerNetwork-1000\n",
      "[ 0.82315549  0.49065988  0.69225298  0.53604368  0.29623782  0.75034609\n",
      "  0.86643699  0.59223617  0.65487109  0.40890342  0.63668566  0.88994951\n",
      "  0.65376351  0.89327151  0.8289467 ]\n",
      "[ 0.53604368  0.49065988  0.75034609  0.40890342  0.29623782  0.86643699\n",
      "  0.65376351  0.8289467   0.69225298  0.59223617  0.88994951  0.82315549\n",
      "  0.65487109  0.89327151  0.63668566]\n",
      "1.63538045791\n"
     ]
    }
   ],
   "source": [
    "trainingParams = {}\n",
    "trainingParams['batchSize'] = network.batchSize\n",
    "trainingParams['length'] = network.maxTimeSteps\n",
    "trainingParams['numCities'] = network.maxTimeSteps\n",
    "\n",
    "saver = tf.train.Saver()\n",
    "with tf.Session() as sess:\n",
    "    # load graph\n",
    "    saver.restore(sess, tf.train.latest_checkpoint('checkpoints/'))\n",
    "\n",
    "    # generate a test batch and output its accuracy and also a sample\n",
    "    newInputs = problem.makeBatch(trainingParams)\n",
    "    output = sess.run(network.decoderOutputs, feed_dict={network.train: False,\n",
    "                                                         network.rawInputs: newInputs})\n",
    "    print(newInputs[0, :, :].T)\n",
    "    print(newInputs[0, :, :][np.array(output).T[0]].T)\n",
    "    print(problem.accuracy(solution=np.array(output).T, batchArray=newInputs))"
   ]
  },
  {
   "cell_type": "code",
   "execution_count": 5,
   "metadata": {},
   "outputs": [
    {
     "data": {
      "image/png": "[encoded data removed]",
      "text/plain": [
       "<matplotlib.figure.Figure at 0x1213866a0>"
      ]
     },
     "metadata": {},
     "output_type": "display_data"
    }
   ],
   "source": [
    "import matplotlib.pyplot as plt\n",
    "\n",
    "plt.semilogy(losses)\n",
    "plt.show()"
   ]
  },
  {
   "cell_type": "code",
   "execution_count": 9,
   "metadata": {},
   "outputs": [],
   "source": [
    "import src\n",
    "import numpy as np\n",
    "problem = src.TSPProblem()"
   ]
  },
  {
   "cell_type": "code",
   "execution_count": 6,
   "metadata": {
    "collapsed": true
   },
   "outputs": [],
   "source": [
    "params = {}\n",
    "params['batchSize'] = 1\n",
    "params['numCities'] = 5\n",
    "inp = problem.makeBatch(params)\n",
    "sol = problem.getSolution(inp)"
   ]
  },
  {
   "cell_type": "code",
   "execution_count": 10,
   "metadata": {},
   "outputs": [
    {
     "ename": "TypeError",
     "evalue": "object of type 'float' has no len()",
     "output_type": "error",
     "traceback": [
      "\u001b[0;31m---------------------------------------------------------------------------\u001b[0m",
      "\u001b[0;31mTypeError\u001b[0m                                 Traceback (most recent call last)",
      "\u001b[0;32m<ipython-input-10-87b815fd1beb>\u001b[0m in \u001b[0;36m<module>\u001b[0;34m()\u001b[0m\n\u001b[0;32m----> 1\u001b[0;31m \u001b[0mproblem\u001b[0m\u001b[0;34m.\u001b[0m\u001b[0maccuracy\u001b[0m\u001b[0;34m(\u001b[0m\u001b[0msolution\u001b[0m\u001b[0;34m=\u001b[0m\u001b[0mnp\u001b[0m\u001b[0;34m.\u001b[0m\u001b[0marray\u001b[0m\u001b[0;34m(\u001b[0m\u001b[0moutput\u001b[0m\u001b[0;34m)\u001b[0m\u001b[0;34m.\u001b[0m\u001b[0mT\u001b[0m\u001b[0;34m,\u001b[0m \u001b[0mbatchArray\u001b[0m\u001b[0;34m=\u001b[0m\u001b[0mnewInputs\u001b[0m\u001b[0;34m)\u001b[0m\u001b[0;34m\u001b[0m\u001b[0m\n\u001b[0m",
      "\u001b[0;32m/Users/borislo/Projects/ptrnet/src/TSPProblem.py\u001b[0m in \u001b[0;36maccuracy\u001b[0;34m(self, solution, batchArray)\u001b[0m\n\u001b[1;32m     72\u001b[0m                         \u001b[0mprint\u001b[0m\u001b[0;34m(\u001b[0m\u001b[0msolutionPath\u001b[0m\u001b[0;34m[\u001b[0m\u001b[0;36m0\u001b[0m\u001b[0;34m]\u001b[0m\u001b[0;34m)\u001b[0m\u001b[0;34m\u001b[0m\u001b[0m\n\u001b[1;32m     73\u001b[0m                         \u001b[0minputSet\u001b[0m     \u001b[0;34m=\u001b[0m \u001b[0mbatchArray\u001b[0m\u001b[0;34m[\u001b[0m\u001b[0mpathNum\u001b[0m\u001b[0;34m,\u001b[0m\u001b[0;34m:\u001b[0m\u001b[0;34m,\u001b[0m\u001b[0;34m:\u001b[0m\u001b[0;34m]\u001b[0m\u001b[0;34m.\u001b[0m\u001b[0mtolist\u001b[0m\u001b[0;34m(\u001b[0m\u001b[0;34m)\u001b[0m\u001b[0;34m\u001b[0m\u001b[0m\n\u001b[0;32m---> 74\u001b[0;31m \u001b[0;34m\u001b[0m\u001b[0m\n\u001b[0m\u001b[1;32m     75\u001b[0m                         \u001b[0mpathLengths\u001b[0m\u001b[0;34m.\u001b[0m\u001b[0mappend\u001b[0m\u001b[0;34m(\u001b[0m\u001b[0mself\u001b[0m\u001b[0;34m.\u001b[0m\u001b[0mpathLength\u001b[0m\u001b[0;34m(\u001b[0m\u001b[0msolutionPath\u001b[0m\u001b[0;34m)\u001b[0m\u001b[0;34m/\u001b[0m\u001b[0mself\u001b[0m\u001b[0;34m.\u001b[0m\u001b[0mpathLength\u001b[0m\u001b[0;34m(\u001b[0m\u001b[0minputSet\u001b[0m\u001b[0;34m)\u001b[0m\u001b[0;34m)\u001b[0m\u001b[0;34m\u001b[0m\u001b[0m\n\u001b[1;32m     76\u001b[0m \u001b[0;34m\u001b[0m\u001b[0m\n",
      "\u001b[0;32m/Users/borislo/Projects/ptrnet/src/TSPProblem.py\u001b[0m in \u001b[0;36mpathLength\u001b[0;34m(self, path)\u001b[0m\n\u001b[1;32m     18\u001b[0m                 \u001b[0mReturn\u001b[0m \u001b[0mthe\u001b[0m \u001b[0mtotal\u001b[0m \u001b[0mpath\u001b[0m \u001b[0mlength\u001b[0m \u001b[0mgiven\u001b[0m \u001b[0mpath\u001b[0m \u001b[0;34m(\u001b[0m\u001b[0ma\u001b[0m \u001b[0mlist\u001b[0m \u001b[0mof\u001b[0m \u001b[0mpoints\u001b[0m\u001b[0;34m)\u001b[0m\u001b[0;34m\u001b[0m\u001b[0m\n\u001b[1;32m     19\u001b[0m \t\t'''\n\u001b[0;32m---> 20\u001b[0;31m                 \u001b[0;32mreturn\u001b[0m \u001b[0msum\u001b[0m\u001b[0;34m(\u001b[0m\u001b[0;34m[\u001b[0m\u001b[0mself\u001b[0m\u001b[0;34m.\u001b[0m\u001b[0mdist\u001b[0m\u001b[0;34m(\u001b[0m\u001b[0mpath\u001b[0m\u001b[0;34m[\u001b[0m\u001b[0mi\u001b[0m\u001b[0;34m]\u001b[0m\u001b[0;34m,\u001b[0m \u001b[0mpath\u001b[0m\u001b[0;34m[\u001b[0m\u001b[0mi\u001b[0m\u001b[0;34m+\u001b[0m\u001b[0;36m1\u001b[0m\u001b[0;34m]\u001b[0m\u001b[0;34m)\u001b[0m \u001b[0;32mfor\u001b[0m \u001b[0mi\u001b[0m \u001b[0;32min\u001b[0m \u001b[0mrange\u001b[0m\u001b[0;34m(\u001b[0m\u001b[0mlen\u001b[0m\u001b[0;34m(\u001b[0m\u001b[0mpath\u001b[0m\u001b[0;34m)\u001b[0m\u001b[0;34m-\u001b[0m\u001b[0;36m1\u001b[0m\u001b[0;34m)\u001b[0m\u001b[0;34m]\u001b[0m\u001b[0;34m)\u001b[0m\u001b[0;34m\u001b[0m\u001b[0m\n\u001b[0m\u001b[1;32m     21\u001b[0m \u001b[0;34m\u001b[0m\u001b[0m\n\u001b[1;32m     22\u001b[0m         \u001b[0;32mdef\u001b[0m \u001b[0mmakeBatch\u001b[0m\u001b[0;34m(\u001b[0m\u001b[0mself\u001b[0m\u001b[0;34m,\u001b[0m \u001b[0mparams\u001b[0m\u001b[0;34m)\u001b[0m\u001b[0;34m:\u001b[0m\u001b[0;34m\u001b[0m\u001b[0m\n",
      "\u001b[0;32m/Users/borislo/Projects/ptrnet/src/TSPProblem.py\u001b[0m in \u001b[0;36m<listcomp>\u001b[0;34m(.0)\u001b[0m\n\u001b[1;32m     18\u001b[0m                 \u001b[0mReturn\u001b[0m \u001b[0mthe\u001b[0m \u001b[0mtotal\u001b[0m \u001b[0mpath\u001b[0m \u001b[0mlength\u001b[0m \u001b[0mgiven\u001b[0m \u001b[0mpath\u001b[0m \u001b[0;34m(\u001b[0m\u001b[0ma\u001b[0m \u001b[0mlist\u001b[0m \u001b[0mof\u001b[0m \u001b[0mpoints\u001b[0m\u001b[0;34m)\u001b[0m\u001b[0;34m\u001b[0m\u001b[0m\n\u001b[1;32m     19\u001b[0m \t\t'''\n\u001b[0;32m---> 20\u001b[0;31m                 \u001b[0;32mreturn\u001b[0m \u001b[0msum\u001b[0m\u001b[0;34m(\u001b[0m\u001b[0;34m[\u001b[0m\u001b[0mself\u001b[0m\u001b[0;34m.\u001b[0m\u001b[0mdist\u001b[0m\u001b[0;34m(\u001b[0m\u001b[0mpath\u001b[0m\u001b[0;34m[\u001b[0m\u001b[0mi\u001b[0m\u001b[0;34m]\u001b[0m\u001b[0;34m,\u001b[0m \u001b[0mpath\u001b[0m\u001b[0;34m[\u001b[0m\u001b[0mi\u001b[0m\u001b[0;34m+\u001b[0m\u001b[0;36m1\u001b[0m\u001b[0;34m]\u001b[0m\u001b[0;34m)\u001b[0m \u001b[0;32mfor\u001b[0m \u001b[0mi\u001b[0m \u001b[0;32min\u001b[0m \u001b[0mrange\u001b[0m\u001b[0;34m(\u001b[0m\u001b[0mlen\u001b[0m\u001b[0;34m(\u001b[0m\u001b[0mpath\u001b[0m\u001b[0;34m)\u001b[0m\u001b[0;34m-\u001b[0m\u001b[0;36m1\u001b[0m\u001b[0;34m)\u001b[0m\u001b[0;34m]\u001b[0m\u001b[0;34m)\u001b[0m\u001b[0;34m\u001b[0m\u001b[0m\n\u001b[0m\u001b[1;32m     21\u001b[0m \u001b[0;34m\u001b[0m\u001b[0m\n\u001b[1;32m     22\u001b[0m         \u001b[0;32mdef\u001b[0m \u001b[0mmakeBatch\u001b[0m\u001b[0;34m(\u001b[0m\u001b[0mself\u001b[0m\u001b[0;34m,\u001b[0m \u001b[0mparams\u001b[0m\u001b[0;34m)\u001b[0m\u001b[0;34m:\u001b[0m\u001b[0;34m\u001b[0m\u001b[0m\n",
      "\u001b[0;32m/Users/borislo/Projects/ptrnet/src/TSPProblem.py\u001b[0m in \u001b[0;36mdist\u001b[0;34m(self, x1, x2)\u001b[0m\n\u001b[1;32m     12\u001b[0m                 \u001b[0mEuclidean\u001b[0m \u001b[0mdistance\u001b[0m\u001b[0;34m\u001b[0m\u001b[0m\n\u001b[1;32m     13\u001b[0m \t\t'''\n\u001b[0;32m---> 14\u001b[0;31m                 \u001b[0;32mreturn\u001b[0m \u001b[0mmath\u001b[0m\u001b[0;34m.\u001b[0m\u001b[0msqrt\u001b[0m\u001b[0;34m(\u001b[0m\u001b[0msum\u001b[0m\u001b[0;34m(\u001b[0m\u001b[0;34m[\u001b[0m\u001b[0;34m(\u001b[0m\u001b[0mx1\u001b[0m\u001b[0;34m[\u001b[0m\u001b[0mi\u001b[0m\u001b[0;34m]\u001b[0m \u001b[0;34m-\u001b[0m \u001b[0mx2\u001b[0m\u001b[0;34m[\u001b[0m\u001b[0mi\u001b[0m\u001b[0;34m]\u001b[0m\u001b[0;34m)\u001b[0m\u001b[0;34m**\u001b[0m\u001b[0;36m2\u001b[0m \u001b[0;32mfor\u001b[0m \u001b[0mi\u001b[0m \u001b[0;32min\u001b[0m \u001b[0mrange\u001b[0m\u001b[0;34m(\u001b[0m\u001b[0mlen\u001b[0m\u001b[0;34m(\u001b[0m\u001b[0mx1\u001b[0m\u001b[0;34m)\u001b[0m\u001b[0;34m)\u001b[0m\u001b[0;34m]\u001b[0m\u001b[0;34m)\u001b[0m\u001b[0;34m)\u001b[0m\u001b[0;34m\u001b[0m\u001b[0m\n\u001b[0m\u001b[1;32m     15\u001b[0m \u001b[0;34m\u001b[0m\u001b[0m\n\u001b[1;32m     16\u001b[0m         \u001b[0;32mdef\u001b[0m \u001b[0mpathLength\u001b[0m\u001b[0;34m(\u001b[0m\u001b[0mself\u001b[0m\u001b[0;34m,\u001b[0m \u001b[0mpath\u001b[0m\u001b[0;34m)\u001b[0m\u001b[0;34m:\u001b[0m\u001b[0;34m\u001b[0m\u001b[0m\n",
      "\u001b[0;31mTypeError\u001b[0m: object of type 'float' has no len()"
     ]
    }
   ],
   "source": [
    "problem.accuracy(solution=np.array(output).T, batchArray=newInputs)"
   ]
  },
  {
   "cell_type": "code",
   "execution_count": 6,
   "metadata": {},
   "outputs": [
    {
     "name": "stdout",
     "output_type": "stream",
     "text": [
      "(5, 2)\n",
      "(2, 5)\n"
     ]
    }
   ],
   "source": [
    "            print(newInputs[0, :, :].shape)\n",
    "            print(newInputs[0, :, :][np.array(output).T[0]].T.shape)"
   ]
  },
  {
   "cell_type": "code",
   "execution_count": 11,
   "metadata": {},
   "outputs": [
    {
     "data": {
      "text/plain": [
       "array([0, 2, 3, 1, 4])"
      ]
     },
     "execution_count": 11,
     "metadata": {},
     "output_type": "execute_result"
    }
   ],
   "source": [
    "np.array(output).T[0]"
   ]
  }
 ],
 "metadata": {
  "kernelspec": {
   "display_name": "Python 3",
   "language": "python",
   "name": "python3"
  },
  "language_info": {
   "codemirror_mode": {
    "name": "ipython",
    "version": 3
   },
   "file_extension": ".py",
   "mimetype": "text/x-python",
   "name": "python",
   "nbconvert_exporter": "python",
   "pygments_lexer": "ipython3",
   "version": "3.6.1"
  }
 },
 "nbformat": 4,
 "nbformat_minor": 2
}
