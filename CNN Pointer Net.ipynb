{
 "cells": [
  {
   "cell_type": "code",
   "execution_count": 1,
   "metadata": {
    "collapsed": true
   },
   "outputs": [],
   "source": [
    "import tensorflow as tf\n",
    "import numpy as np\n",
    "import src"
   ]
  },
  {
   "cell_type": "code",
   "execution_count": 2,
   "metadata": {
    "collapsed": true
   },
   "outputs": [],
   "source": [
    "problem = src.TSPProblem()\n",
    "# problem = src.SortingProblem()"
   ]
  },
  {
   "cell_type": "code",
   "execution_count": 3,
   "metadata": {},
   "outputs": [
    {
     "name": "stdout",
     "output_type": "stream",
     "text": [
      "WARNING:tensorflow:From /Users/borislo/Projects/ptrnet/src/PointerNetwork.py:375: softmax_cross_entropy_with_logits (from tensorflow.python.ops.nn_ops) is deprecated and will be removed in a future version.\n",
      "Instructions for updating:\n",
      "\n",
      "Future major versions of TensorFlow will allow gradients to flow\n",
      "into the labels input on backprop by default.\n",
      "\n",
      "See tf.nn.softmax_cross_entropy_with_logits_v2.\n",
      "\n"
     ]
    }
   ],
   "source": [
    "tf.reset_default_graph()\n",
    "network = src.PointerNetwork('cfg')\n",
    "network.makeGraph()\n",
    "seqLen = network.maxTimeSteps\n",
    "batchSize = network.batchSize"
   ]
  },
  {
   "cell_type": "code",
   "execution_count": 4,
   "metadata": {},
   "outputs": [
    {
     "name": "stdout",
     "output_type": "stream",
     "text": [
      "Batch: 0\n",
      "[[ 0.31921495  0.35908617  0.97919901  0.11695446  0.06323939]\n",
      " [ 0.69851617  0.91137018  0.17122256  0.92595236  0.88116783]]\n",
      "[[ 0.97919901  0.31921495  0.06323939  0.11695446  0.35908617]\n",
      " [ 0.17122256  0.69851617  0.88116783  0.92595236  0.91137018]]\n",
      "1.12516902364\n",
      "Batch: 100\n",
      "[[ 0.03696373  0.41851267  0.44884475  0.01808824  0.67703721]\n",
      " [ 0.3632051   0.98612421  0.15101342  0.01370854  0.96773145]]\n",
      "[[ 0.67703721  0.41851267  0.44884475  0.03696373  0.01808824]\n",
      " [ 0.96773145  0.98612421  0.15101342  0.3632051   0.01370854]]\n",
      "1.07389338033\n",
      "Batch: 200\n",
      "[[ 0.53296232  0.13994958  0.07345299  0.38446188  0.41779168]\n",
      " [ 0.80766097  0.54988558  0.14293672  0.04231981  0.63070323]]\n",
      "[[ 0.53296232  0.41779168  0.13994958  0.07345299  0.38446188]\n",
      " [ 0.80766097  0.63070323  0.54988558  0.14293672  0.04231981]]\n",
      "0.980377666918\n",
      "Batch: 300\n",
      "[[ 0.39646406  0.46149666  0.64257038  0.77974874  0.74385773]\n",
      " [ 0.40847052  0.56726271  0.48787852  0.93330343  0.54787386]]\n",
      "[[ 0.77974874  0.74385773  0.64257038  0.46149666  0.39646406]\n",
      " [ 0.93330343  0.54787386  0.48787852  0.56726271  0.40847052]]\n",
      "0.96410792874\n",
      "Batch: 400\n",
      "[[ 0.66600553  0.67740817  0.23339334  0.72225062  0.07498879]\n",
      " [ 0.93902603  0.71894568  0.51800565  0.23307786  0.15665811]]\n",
      "[[ 0.66600553  0.67740817  0.72225062  0.23339334  0.07498879]\n",
      " [ 0.93902603  0.71894568  0.23307786  0.51800565  0.15665811]]\n",
      "0.995180436217\n",
      "Batch: 500\n",
      "[[ 0.06381899  0.08712651  0.00608712  0.64563428  0.49858347]\n",
      " [ 0.53299914  0.28186348  0.42707152  0.97012867  0.0725057 ]]\n",
      "[[ 0.64563428  0.49858347  0.08712651  0.06381899  0.00608712]\n",
      " [ 0.97012867  0.0725057   0.28186348  0.53299914  0.42707152]]\n",
      "0.953058161892\n",
      "Batch: 600\n",
      "[[ 0.29713647  0.90581878  0.47063746  0.91695253  0.12750653]\n",
      " [ 0.89858101  0.65266633  0.61865141  0.35975877  0.31562651]]\n",
      "[[ 0.29713647  0.12750653  0.47063746  0.90581878  0.91695253]\n",
      " [ 0.89858101  0.31562651  0.61865141  0.65266633  0.35975877]]\n",
      "0.979030910585\n",
      "Batch: 700\n",
      "[[ 0.84349975  0.54477847  0.71078135  0.04298687  0.20798909]\n",
      " [ 0.36918464  0.38491316  0.71301679  0.73015163  0.8805966 ]]\n",
      "[[ 0.04298687  0.20798909  0.71078135  0.54477847  0.84349975]\n",
      " [ 0.73015163  0.8805966   0.71301679  0.38491316  0.36918464]]\n",
      "0.978540117928\n",
      "Batch: 800\n",
      "[[ 0.25396081  0.43891706  0.27083314  0.46198191  0.57660865]\n",
      " [ 0.92545206  0.97617271  0.85553349  0.38284625  0.8677541 ]]\n",
      "[[ 0.25396081  0.27083314  0.43891706  0.57660865  0.46198191]\n",
      " [ 0.92545206  0.85553349  0.97617271  0.8677541   0.38284625]]\n",
      "0.972293632918\n",
      "Batch: 900\n",
      "[[ 0.83186796  0.7294837   0.97163393  0.4859276   0.23365066]\n",
      " [ 0.23126888  0.34457467  0.8624167   0.7322008   0.02624592]]\n",
      "[[ 0.97163393  0.4859276   0.7294837   0.83186796  0.23365066]\n",
      " [ 0.8624167   0.7322008   0.34457467  0.23126888  0.02624592]]\n",
      "0.981628020967\n",
      "Batch: 1000\n",
      "[[ 0.554759    0.60882275  0.66893155  0.54870506  0.39797202]\n",
      " [ 0.68279994  0.62890613  0.51056417  0.70937629  0.34644442]]\n",
      "[[ 0.39797202  0.66893155  0.60882275  0.554759    0.54870506]\n",
      " [ 0.34644442  0.51056417  0.62890613  0.68279994  0.70937629]]\n",
      "0.979827533978\n",
      "Batch: 1100\n",
      "[[ 0.6144194   0.0107413   0.29276556  0.89842743  0.06485687]\n",
      " [ 0.5384847   0.02233922  0.74518503  0.44668179  0.32298006]]\n",
      "[[ 0.06485687  0.0107413   0.29276556  0.6144194   0.89842743]\n",
      " [ 0.32298006  0.02233922  0.74518503  0.5384847   0.44668179]]\n",
      "0.988775927576\n",
      "Batch: 1200\n",
      "[[ 0.39926515  0.90038431  0.5732836   0.45053363  0.7470029 ]\n",
      " [ 0.37625311  0.43627832  0.48254405  0.39658932  0.37995664]]\n",
      "[[ 0.90038431  0.7470029   0.5732836   0.45053363  0.39926515]\n",
      " [ 0.43627832  0.37995664  0.48254405  0.39658932  0.37625311]]\n",
      "0.97547956965\n",
      "Batch: 1300\n",
      "[[ 0.00316273  0.61490714  0.76562005  0.82367003  0.35650692]\n",
      " [ 0.53682387  0.54064109  0.12617683  0.88770773  0.53232442]]\n",
      "[[ 0.82367003  0.61490714  0.76562005  0.35650692  0.00316273]\n",
      " [ 0.88770773  0.54064109  0.12617683  0.53232442  0.53682387]]\n",
      "0.976953743254\n",
      "Batch: 1400\n",
      "[[ 0.19062838  0.80763008  0.6609549   0.36375474  0.54299157]\n",
      " [ 0.13011973  0.22531698  0.05347071  0.15496332  0.93278369]]\n",
      "[[ 0.54299157  0.80763008  0.6609549   0.36375474  0.19062838]\n",
      " [ 0.93278369  0.22531698  0.05347071  0.15496332  0.13011973]]\n",
      "0.96951456454\n",
      "Batch: 1500\n",
      "[[ 0.30300943  0.12785274  0.97449335  0.09752718  0.4506497 ]\n",
      " [ 0.85944485  0.64163993  0.06807131  0.32480334  0.98961955]]\n",
      "[[ 0.4506497   0.30300943  0.12785274  0.09752718  0.97449335]\n",
      " [ 0.98961955  0.85944485  0.64163993  0.32480334  0.06807131]]\n",
      "0.974422148629\n",
      "Batch: 1600\n",
      "[[ 0.96506342  0.98753915  0.57707309  0.18929454  0.74872812]\n",
      " [ 0.64578389  0.28659453  0.08407059  0.6266204   0.52886735]]\n",
      "[[ 0.18929454  0.57707309  0.98753915  0.74872812  0.96506342]\n",
      " [ 0.6266204   0.08407059  0.28659453  0.52886735  0.64578389]]\n",
      "0.989580236096\n",
      "Batch: 1700\n",
      "[[ 0.07078743  0.12900752  0.09234474  0.07824174  0.67549417]\n",
      " [ 0.32457866  0.05920792  0.00472123  0.33963229  0.60760595]]\n",
      "[[ 0.67549417  0.07824174  0.07078743  0.12900752  0.09234474]\n",
      " [ 0.60760595  0.33963229  0.32457866  0.05920792  0.00472123]]\n",
      "0.972045465078\n",
      "Batch: 1800\n",
      "[[ 0.68257463  0.23524993  0.13564749  0.30753823  0.76865166]\n",
      " [ 0.2267978   0.07283676  0.99472843  0.87592663  0.28503575]]\n",
      "[[ 0.30753823  0.13564749  0.23524993  0.68257463  0.76865166]\n",
      " [ 0.87592663  0.99472843  0.07283676  0.2267978   0.28503575]]\n",
      "0.976178074549\n",
      "Batch: 1900\n",
      "[[ 0.10640263  0.11443808  0.31266219  0.61785368  0.96260435]\n",
      " [ 0.60136582  0.96854231  0.05829519  0.69965094  0.95383403]]\n",
      "[[ 0.10640263  0.11443808  0.96260435  0.61785368  0.31266219]\n",
      " [ 0.60136582  0.96854231  0.95383403  0.69965094  0.05829519]]\n",
      "0.991270670611\n",
      "Batch: 2000\n",
      "[[ 0.22758173  0.20105097  0.64953115  0.50066554  0.89376555]\n",
      " [ 0.23445995  0.54097399  0.2555014   0.30478511  0.16430353]]\n",
      "[[ 0.20105097  0.22758173  0.50066554  0.64953115  0.89376555]\n",
      " [ 0.54097399  0.23445995  0.30478511  0.2555014   0.16430353]]\n",
      "0.994760514297\n",
      "Batch: 2100\n",
      "[[ 0.49901846  0.78068558  0.30389448  0.73539649  0.14942315]\n",
      " [ 0.85307988  0.92390956  0.26150997  0.43386301  0.43371711]]\n",
      "[[ 0.30389448  0.14942315  0.73539649  0.49901846  0.78068558]\n",
      " [ 0.26150997  0.43371711  0.43386301  0.85307988  0.92390956]]\n",
      "0.987219269941\n",
      "Batch: 2200\n",
      "[[ 0.91078226  0.64715296  0.21009     0.27575076  0.11727567]\n",
      " [ 0.48678192  0.99625508  0.63222228  0.6107699   0.92254753]]\n",
      "[[ 0.27575076  0.21009     0.11727567  0.64715296  0.91078226]\n",
      " [ 0.6107699   0.63222228  0.92254753  0.99625508  0.48678192]]\n",
      "0.972002599148\n",
      "Batch: 2300\n",
      "[[ 0.57347658  0.63720869  0.80762395  0.48549448  0.45286539]\n",
      " [ 0.53758852  0.73477272  0.86555344  0.01947198  0.41380876]]\n",
      "[[ 0.80762395  0.63720869  0.57347658  0.45286539  0.48549448]\n",
      " [ 0.86555344  0.73477272  0.53758852  0.41380876  0.01947198]]\n",
      "0.987327457457\n",
      "Batch: 2400\n",
      "[[ 0.57358351  0.40237854  0.15547377  0.05239571  0.13463202]\n",
      " [ 0.80070117  0.86979613  0.38342197  0.19994837  0.48788311]]\n",
      "[[ 0.57358351  0.40237854  0.13463202  0.15547377  0.05239571]\n",
      " [ 0.80070117  0.86979613  0.48788311  0.38342197  0.19994837]]\n",
      "0.970821680883\n",
      "Batch: 2500\n",
      "[[ 0.16935028  0.25921976  0.50668888  0.68924688  0.39965215]\n",
      " [ 0.41923298  0.68078641  0.79409954  0.77751062  0.10629947]]\n",
      "[[ 0.68924688  0.50668888  0.25921976  0.16935028  0.39965215]\n",
      " [ 0.77751062  0.79409954  0.68078641  0.41923298  0.10629947]]\n",
      "0.97782270759\n",
      "Batch: 2600\n",
      "[[ 0.15433257  0.80301922  0.56137493  0.8398897   0.32590913]\n",
      " [ 0.44991897  0.3150411   0.7812141   0.4953805   0.06047951]]\n",
      "[[ 0.56137493  0.8398897   0.80301922  0.32590913  0.15433257]\n",
      " [ 0.7812141   0.4953805   0.3150411   0.06047951  0.44991897]]\n",
      "0.980267420513\n",
      "Batch: 2700\n",
      "[[ 0.53927172  0.32839095  0.94804757  0.61147252  0.72443208]\n",
      " [ 0.63625436  0.01537201  0.74447111  0.3930667   0.61316865]]\n",
      "[[ 0.94804757  0.53927172  0.72443208  0.61147252  0.32839095]\n",
      " [ 0.74447111  0.63625436  0.61316865  0.3930667   0.01537201]]\n",
      "0.984991481933\n",
      "Batch: 2800\n",
      "[[ 0.13058664  0.4127553   0.29479034  0.41249715  0.32222315]\n",
      " [ 0.5063916   0.62608033  0.13043514  0.83570861  0.17250424]]\n",
      "[[ 0.4127553   0.41249715  0.13058664  0.32222315  0.29479034]\n",
      " [ 0.62608033  0.83570861  0.5063916   0.17250424  0.13043514]]\n",
      "0.983081447301\n",
      "Batch: 2900\n",
      "[[ 0.46243506  0.43186655  0.33340442  0.2922414   0.08163453]\n",
      " [ 0.86277702  0.59966064  0.54844508  0.31895894  0.09444743]]\n",
      "[[ 0.2922414   0.08163453  0.33340442  0.43186655  0.46243506]\n",
      " [ 0.31895894  0.09444743  0.54844508  0.59966064  0.86277702]]\n"
     ]
    },
    {
     "name": "stdout",
     "output_type": "stream",
     "text": [
      "1.00426049702\n",
      "Batch: 2999\n",
      "[[ 0.4271937   0.09991091  0.22592054  0.82149033  0.42510495]\n",
      " [ 0.63177811  0.20771465  0.57221972  0.88846569  0.67103404]]\n",
      "[[ 0.82149033  0.42510495  0.4271937   0.22592054  0.09991091]\n",
      " [ 0.88846569  0.67103404  0.63177811  0.57221972  0.20771465]]\n",
      "0.987906202358\n"
     ]
    }
   ],
   "source": [
    "trainingParams = {}\n",
    "trainingParams['batchSize'] = batchSize\n",
    "trainingParams['length'] = seqLen\n",
    "trainingParams['numCities'] = seqLen\n",
    "\n",
    "losses = []\n",
    "\n",
    "# train on numBatches batches of 100 samples each\n",
    "saver = tf.train.Saver()\n",
    "numBatches = 3000\n",
    "with tf.Session() as sess:\n",
    "    # initialize variables\n",
    "    sess.run(tf.global_variables_initializer())\n",
    "    \n",
    "    # write out log for graph visualization\n",
    "    writer = tf.summary.FileWriter('checkpoints/', sess.graph)\n",
    "\n",
    "    for batch in range(numBatches):\n",
    "        # make current batch of training data\n",
    "        inputs = problem.makeBatch(trainingParams)\n",
    "        trainingInputs, targets = problem.makeTargets(inputs)\n",
    "        \n",
    "        # apply one training step\n",
    "        _, loss = sess.run([network.trainOp, network.loss], \n",
    "                           feed_dict={network.train: True,\n",
    "                                      network.rawInputs: inputs,\n",
    "                                      network.targets: targets,\n",
    "                                      network.targetInputs: trainingInputs[:,:-1,:]})\n",
    "        \n",
    "        # keep track of the loss values\n",
    "        losses.append(loss)\n",
    "        \n",
    "        if batch % 100 == 0 or batch == numBatches-1:\n",
    "            \n",
    "            # generate a test batch and output its accuracy and also a sample\n",
    "            print('Batch: ' + str(batch))\n",
    "            newInputs = problem.makeBatch(trainingParams)\n",
    "            output = sess.run(network.decoderOutputs, feed_dict={network.train: False,\n",
    "                                                                 network.rawInputs: newInputs})\n",
    "            print(newInputs[0, :, :].T)\n",
    "            print(newInputs[0, :, :][np.array(output).T[0]].T)\n",
    "            print(problem.accuracy(solution=np.array(output).T, batchArray=newInputs))\n",
    "            \n",
    "            # save checkpoint\n",
    "            if batch > 0:\n",
    "                saver.save(sess, 'checkpoints/SortingPointerNetwork', global_step=network.globalStep)"
   ]
  },
  {
   "cell_type": "code",
   "execution_count": 5,
   "metadata": {},
   "outputs": [
    {
     "data": {
      "image/png": "[encoded data removed]",
      "text/plain": [
       "<matplotlib.figure.Figure at 0x1229d53c8>"
      ]
     },
     "metadata": {},
     "output_type": "display_data"
    }
   ],
   "source": [
    "import matplotlib.pyplot as plt\n",
    "\n",
    "plt.semilogy(losses)\n",
    "plt.show()"
   ]
  },
  {
   "cell_type": "markdown",
   "metadata": {},
   "source": [
    "The above cells train the sorting problem according to max time in cfg (default is 5).\n",
    "\n",
    "Now, look at the accuracy of using these network weights on sorting 15 numbers and see how the network performs."
   ]
  },
  {
   "cell_type": "code",
   "execution_count": 6,
   "metadata": {
    "collapsed": true
   },
   "outputs": [],
   "source": [
    "tf.reset_default_graph()\n",
    "network = src.PointerNetwork('cfg')\n",
    "network.maxTimeSteps = 15\n",
    "network.batchSize = 100\n",
    "network.makeGraph()"
   ]
  },
  {
   "cell_type": "code",
   "execution_count": 7,
   "metadata": {},
   "outputs": [
    {
     "name": "stdout",
     "output_type": "stream",
     "text": [
      "1.48813911805\n",
      "INFO:tensorflow:Restoring parameters from checkpoints/SortingPointerNetwork-3000\n",
      "[[ 0.42625032  0.69378216  0.16208656  0.51707622  0.66256397  0.31001627\n",
      "   0.5603143   0.86428463  0.79845673  0.06982247  0.5013813   0.37516072\n",
      "   0.46023156  0.24138373  0.71849335]\n",
      " [ 0.11833132  0.38157692  0.03005893  0.02028028  0.42801538  0.49362906\n",
      "   0.41980336  0.25306926  0.47426916  0.87275159  0.5886851   0.48879784\n",
      "   0.31253384  0.50538173  0.2237057 ]]\n",
      "[[ 0.06982247  0.24138373  0.31001627  0.37516072  0.5013813   0.79845673\n",
      "   0.66256397  0.5603143   0.69378216  0.86428463  0.71849335  0.46023156\n",
      "   0.42625032  0.51707622  0.16208656]\n",
      " [ 0.87275159  0.50538173  0.49362906  0.48879784  0.5886851   0.47426916\n",
      "   0.42801538  0.41980336  0.38157692  0.25306926  0.2237057   0.31253384\n",
      "   0.11833132  0.02028028  0.03005893]]\n",
      "1.05699419242\n"
     ]
    }
   ],
   "source": [
    "trainingParams = {}\n",
    "trainingParams['batchSize'] = network.batchSize\n",
    "trainingParams['length'] = network.maxTimeSteps\n",
    "trainingParams['numCities'] = network.maxTimeSteps\n",
    "\n",
    "saver = tf.train.Saver()\n",
    "with tf.Session() as sess:\n",
    "    # initialize variables\n",
    "    sess.run(tf.global_variables_initializer())\n",
    "    \n",
    "    # generate a test batch and output its accuracy and also a sample\n",
    "    newInputs = problem.makeBatch(trainingParams)\n",
    "    \n",
    "    # random parameters to compare\n",
    "    output = sess.run(network.decoderOutputs, feed_dict={network.train: False,\n",
    "                                                         network.rawInputs: newInputs})\n",
    "    \n",
    "    \n",
    "    print(problem.accuracy(solution=np.array(output).T, batchArray=newInputs))\n",
    "    \n",
    "    # load graph\n",
    "    saver.restore(sess, tf.train.latest_checkpoint('checkpoints/'))  \n",
    "    output = sess.run(network.decoderOutputs, feed_dict={network.train: False,\n",
    "                                                     network.rawInputs: newInputs})\n",
    "    print(newInputs[0, :, :].T)\n",
    "    print(newInputs[0, :, :][np.array(output).T[0]].T)\n",
    "    print(problem.accuracy(solution=np.array(output).T, batchArray=newInputs))"
   ]
  },
  {
   "cell_type": "code",
   "execution_count": 8,
   "metadata": {},
   "outputs": [
    {
     "data": {
      "image/png": "[encoded data removed]",
      "text/plain": [
       "<matplotlib.figure.Figure at 0x12c78e898>"
      ]
     },
     "metadata": {},
     "output_type": "display_data"
    }
   ],
   "source": [
    "path = 2\n",
    "x = newInputs[path, :, :][np.array(output).T[path]][:,0]\n",
    "y = newInputs[path, :, :][np.array(output).T[path]][:,1]\n",
    "\n",
    "plt.plot(x,y, \n",
    "         linestyle='-', marker='o', color='b')\n",
    "\n",
    "for i in range(network.maxTimeSteps):\n",
    "    plt.annotate(i, (x[i],y[i]))\n",
    "plt.show()"
   ]
  },
  {
   "cell_type": "code",
   "execution_count": 9,
   "metadata": {
    "collapsed": true
   },
   "outputs": [],
   "source": [
    "# accuracies = []\n",
    "# for i in range(3,25):\n",
    "\n",
    "#     tf.reset_default_graph()\n",
    "#     network = src.PointerNetwork('cfg')\n",
    "#     network.maxTimeSteps = i\n",
    "#     network.batchSize = 100\n",
    "#     network.makeGraph()\n",
    "\n",
    "#     trainingParams = {}\n",
    "#     trainingParams['batchSize'] = network.batchSize\n",
    "#     trainingParams['length'] = network.maxTimeSteps\n",
    "#     trainingParams['numCities'] = network.maxTimeSteps\n",
    "\n",
    "#     saver = tf.train.Saver()\n",
    "#     with tf.Session() as sess:\n",
    "#         # load graph\n",
    "#         saver.restore(sess, tf.train.latest_checkpoint('checkpoints/'))\n",
    "\n",
    "#         # generate a test batch and output its accuracy and also a sample\n",
    "#         newInputs = problem.makeBatch(trainingParams)\n",
    "#         output = sess.run(network.decoderOutputs, feed_dict={network.train: False,\n",
    "#                                                              network.rawInputs: newInputs})\n",
    "\n",
    "#         accuracies.append(problem.accuracy(solution=np.array(output).T, batchArray=newInputs))\n",
    "        \n",
    "# plt.plot(accuracies)\n",
    "# plt.show()"
   ]
  },
  {
   "cell_type": "code",
   "execution_count": null,
   "metadata": {
    "collapsed": true
   },
   "outputs": [],
   "source": []
  }
 ],
 "metadata": {
  "kernelspec": {
   "display_name": "Python 3",
   "language": "python",
   "name": "python3"
  },
  "language_info": {
   "codemirror_mode": {
    "name": "ipython",
    "version": 3
   },
   "file_extension": ".py",
   "mimetype": "text/x-python",
   "name": "python",
   "nbconvert_exporter": "python",
   "pygments_lexer": "ipython3",
   "version": "3.6.1"
  }
 },
 "nbformat": 4,
 "nbformat_minor": 2
}
